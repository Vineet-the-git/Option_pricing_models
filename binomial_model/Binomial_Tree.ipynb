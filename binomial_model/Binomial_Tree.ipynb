{
 "cells": [
  {
   "cell_type": "code",
   "execution_count": 3,
   "id": "dc6e2598-a713-4b10-8693-eedd1b183361",
   "metadata": {},
   "outputs": [],
   "source": [
    "import numpy as np\n",
    "import pandas as pd\n",
    "import math"
   ]
  },
  {
   "cell_type": "code",
   "execution_count": 111,
   "id": "a2c6085f-fc68-4b2f-80ad-373a51a4120f",
   "metadata": {},
   "outputs": [],
   "source": [
    "class Binomial_Trees():\n",
    "    def __init__(self, stock_price, volatility, time_steps, time2expiry, interest_free_rate, strike_price,option_type = 'ec'):\n",
    "        self.S0 = stock_price\n",
    "        self.K = strike_price\n",
    "        self.sigma = volatility\n",
    "        self.ts = min(time_steps,10)\n",
    "        self.T = time2expiry\n",
    "        self.time_steps = time_steps\n",
    "        self.delta_t = self.T/time_steps\n",
    "        self.r = interest_free_rate\n",
    "        self.u = math.exp(volatility*math.sqrt(self.delta_t))\n",
    "        self.d = math.exp(-volatility*math.sqrt(self.delta_t))\n",
    "        self.p = (math.exp(self.r*self.delta_t) - self.d)/(self.u - self.d)\n",
    "        self.spt = []\n",
    "        self.option_type = option_type\n",
    "        self.stock_prices()\n",
    "        self.opt = []\n",
    "        self.option_prices()\n",
    "\n",
    "    def stock_prices(self):\n",
    "        self.spt.append([self.S0])\n",
    "        for ts in range(1,self.time_steps):\n",
    "            self.spt.append(self.stock_price_at_timestept(ts))\n",
    "            \n",
    "    def stock_price_at_timestept(self, timestep):\n",
    "        stock_prices = []\n",
    "        for s in self.spt[timestep-1]:\n",
    "            for move in range(2):\n",
    "                if(move==0):\n",
    "                    stock_prices.append(s*self.u)\n",
    "                else:\n",
    "                    stock_prices.append(s*self.d)\n",
    "        return stock_prices\n",
    "\n",
    "    def print_sp(self):\n",
    "        num_values = 2**(self.time_steps-1)\n",
    "        for spt in reversed(self.spt):\n",
    "            for sp in spt:\n",
    "                print(sp, end=\"   \")\n",
    "            print()\n",
    "\n",
    "    def print_op(self):\n",
    "        num_values = 2**(self.time_steps-1)\n",
    "        for opt in self.opt:\n",
    "            for sp in opt:\n",
    "                print(sp, end=\"   \")\n",
    "            print()\n",
    "            \n",
    "    def option_value_mature(self):\n",
    "        option_value = []\n",
    "        assert self.option_type in ['ec','ep','ac','ap']\n",
    "        if(self.option_type=='ec'):\n",
    "            for sp in self.spt[-1]:\n",
    "                option_value.append(sp-self.K if sp-self.K>0 else 0.0)\n",
    "        elif(self.option_type=='ep'):\n",
    "            for sp in self.spt[-1]:\n",
    "                option_value.append(self.K-sp if sp-self.K<0 else 0.0)\n",
    "        return option_value\n",
    "\n",
    "    def option_prices(self):\n",
    "        self.opt.append(self.option_value_mature())\n",
    "        for ts in range(1,self.time_steps):\n",
    "            self.opt.append(self.option_value_at_timestept(ts))\n",
    "\n",
    "    def option_value_at_timestept(self, timestep):\n",
    "        option_value = []\n",
    "        s = self.opt[timestep-1]\n",
    "        for idx in range(0,len(self.opt[timestep-1])//2):\n",
    "            fu = s[2*idx]\n",
    "            fd = s[2*idx + 1]\n",
    "            f = math.exp(-self.r*self.delta_t)*(self.p*fu + (1-self.p)*fd)\n",
    "            if self.option_type=='ec' or self.option_type=='ep':\n",
    "                option_value.append(f)\n",
    "        return option_value"
   ]
  },
  {
   "cell_type": "code",
   "execution_count": 112,
   "id": "d572373d-8567-470e-b198-d7efe1c39ee8",
   "metadata": {},
   "outputs": [],
   "source": [
    "bt = Binomial_Trees(20, 1, 3, 3, 0.12, 21, option_type='ec')"
   ]
  },
  {
   "cell_type": "code",
   "execution_count": 113,
   "id": "88b7fa98-9db4-43a3-b7dd-88cb429efc96",
   "metadata": {},
   "outputs": [
    {
     "name": "stdout",
     "output_type": "stream",
     "text": [
      "24.200000000000003   19.8   19.8   16.2   \n",
      "22.0   18.0   \n",
      "20   \n"
     ]
    }
   ],
   "source": [
    "bt.print_sp()"
   ]
  },
  {
   "cell_type": "code",
   "execution_count": 114,
   "id": "b70c71e2-d1d0-4ecd-b3ec-b1d2dfa6a207",
   "metadata": {},
   "outputs": [
    {
     "name": "stdout",
     "output_type": "stream",
     "text": [
      "3.200000000000003   0.0   0.0   0.0   \n",
      "3.2283457112729343   0.0   \n",
      "3.256942509841981   \n"
     ]
    }
   ],
   "source": [
    "bt.print_op()"
   ]
  },
  {
   "cell_type": "code",
   "execution_count": null,
   "id": "9cee714f-de24-4615-a017-df835d7fb221",
   "metadata": {},
   "outputs": [],
   "source": []
  }
 ],
 "metadata": {
  "kernelspec": {
   "display_name": "Python 3 (ipykernel)",
   "language": "python",
   "name": "python3"
  },
  "language_info": {
   "codemirror_mode": {
    "name": "ipython",
    "version": 3
   },
   "file_extension": ".py",
   "mimetype": "text/x-python",
   "name": "python",
   "nbconvert_exporter": "python",
   "pygments_lexer": "ipython3",
   "version": "3.9.18"
  }
 },
 "nbformat": 4,
 "nbformat_minor": 5
}
